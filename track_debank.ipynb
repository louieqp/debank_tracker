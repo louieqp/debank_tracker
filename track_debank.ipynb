{
 "cells": [
  {
   "cell_type": "code",
   "execution_count": 40,
   "id": "1b19e703",
   "metadata": {},
   "outputs": [],
   "source": [
    "from bs4 import BeautifulSoup\n",
    "from selenium import webdriver\n",
    "from selenium.webdriver.common.keys import Keys\n",
    "import chromedriver_binary\n",
    "import sched, time\n",
    "from datetime import date,datetime\n",
    "\n",
    "columns = ['Network', 'Value', 'Time']\n",
    "networks = ['Ethereum','BSC', 'Polygon', 'Fantom', 'Avalanche']\n",
    "s = sched.scheduler(time.time, time.sleep)\n",
    "total_portfolio = ''\n",
    "\n",
    "def getData():\n",
    "   \n",
    "    wallet_address = \"0xf6645ed0405944a38fe97edf8e7162d0205fd365\"\n",
    "    url = f'https://debank.com/profile/{wallet_address}'\n",
    "\n",
    "    # Enable JS\n",
    "    options = webdriver.ChromeOptions()\n",
    "    options.add_argument(\"--enable-javascript\")\n",
    "\n",
    "    # Get HTML\n",
    "    driver = webdriver.Chrome(options=options)\n",
    "    driver.get(url)\n",
    "    time.sleep(14)\n",
    "    html = driver.page_source\n",
    "\n",
    "    # Close browser\n",
    "    driver.close()\n",
    "\n",
    "    # Parse HTML\n",
    "    soup = BeautifulSoup(html, 'html.parser')\n",
    "\n",
    "    total_portfolio = soup.find(\"div\", {'class': 'TotalChainPortfolio_totalChain__1R3Tl'})\n",
    "    assets = total_portfolio.find_all(\"span\")\n",
    "        \n",
    "    with open('data.csv','a') as data:\n",
    "        now = datetime.now().strftime(\"%d/%m/%Y %H:%M\")\n",
    "        for i,span in enumerate(assets):\n",
    "            data.write(f'{networks[i]},{span.text[1:].replace(\",\",\"\")},{now}\\n' )\n",
    "    \n",
    "#     s.enter(3600, 1, getData)\n",
    "\n",
    "s.enter(0, 1, getData)\n",
    "s.run()"
   ]
  },
  {
   "cell_type": "code",
   "execution_count": 43,
   "id": "e35ddd0e",
   "metadata": {},
   "outputs": [
    {
     "data": {
      "text/plain": [
       "[<span>$49</span>,\n",
       " <span>$673</span>,\n",
       " <span>$1,853</span>,\n",
       " <span>$4,334</span>,\n",
       " <span>$3,292</span>]"
      ]
     },
     "execution_count": 43,
     "metadata": {},
     "output_type": "execute_result"
    }
   ],
   "source": [
    "assets"
   ]
  },
  {
   "cell_type": "code",
   "execution_count": 47,
   "id": "c754ecf0",
   "metadata": {},
   "outputs": [
    {
     "name": "stdout",
     "output_type": "stream",
     "text": [
      "Ethereum,49,14/01/2022 15:28\n",
      "\n",
      "BSC,673,14/01/2022 15:28\n",
      "\n",
      "Polygon,1853,14/01/2022 15:28\n",
      "\n",
      "Fantom,4334,14/01/2022 15:28\n",
      "\n",
      "Avalanche,3292,14/01/2022 15:28\n",
      "\n"
     ]
    }
   ],
   "source": [
    "now = datetime.now().strftime(\"%d/%m/%Y %H:%M\")\n",
    "for i,span in enumerate(assets):\n",
    "    print(f'{networks[i]},{span.text[1:].replace(\",\",\"\")},{now}\\n' )"
   ]
  },
  {
   "cell_type": "code",
   "execution_count": null,
   "id": "5ba125b0",
   "metadata": {},
   "outputs": [],
   "source": []
  }
 ],
 "metadata": {
  "kernelspec": {
   "display_name": "Python 3 (ipykernel)",
   "language": "python",
   "name": "python3"
  },
  "language_info": {
   "codemirror_mode": {
    "name": "ipython",
    "version": 3
   },
   "file_extension": ".py",
   "mimetype": "text/x-python",
   "name": "python",
   "nbconvert_exporter": "python",
   "pygments_lexer": "ipython3",
   "version": "3.9.7"
  }
 },
 "nbformat": 4,
 "nbformat_minor": 5
}
